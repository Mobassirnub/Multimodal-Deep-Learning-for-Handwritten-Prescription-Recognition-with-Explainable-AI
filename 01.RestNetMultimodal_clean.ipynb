{
 "cells": [
  {
   "cell_type": "code",
   "execution_count": 1,
   "metadata": {
    "colab": {
     "base_uri": "https://localhost:8080/"
    },
    "executionInfo": {
     "elapsed": 26326,
     "status": "ok",
     "timestamp": 1756314104527,
     "user": {
      "displayName": "AA Mobassir",
      "userId": "06833633880868434202"
     },
     "user_tz": -360
    },
    "id": "_kjJcnNsCson",
    "outputId": "855e3761-c60b-4028-8f4d-6c886e426da2"
   },
   "outputs": [
    {
     "name": "stdout",
     "output_type": "stream",
     "text": [
      "Device: cuda\n"
     ]
    }
   ],
   "source": [
    "import os\n",
    "import time\n",
    "import copy\n",
    "import numpy as np\n",
    "import pandas as pd\n",
    "from PIL import Image\n",
    "import matplotlib.pyplot as plt\n",
    "\n",
    "import torch\n",
    "import torch.nn as nn\n",
    "import torch.optim as optim\n",
    "from torch.utils.data import Dataset, DataLoader\n",
    "from torchvision import models\n",
    "import albumentations as A\n",
    "from albumentations.pytorch import ToTensorV2\n",
    "from sklearn.preprocessing import LabelEncoder\n",
    "from sklearn.metrics import classification_report, accuracy_score\n",
    "\n",
    "import shap\n",
    "\n",
    "device = torch.device(\"cuda\" if torch.cuda.is_available() else \"cpu\")\n",
    "print(\"Device:\", device)"
   ]
  },
  {
   "cell_type": "code",
   "execution_count": 2,
   "metadata": {
    "collapsed": true,
    "executionInfo": {
     "elapsed": 610,
     "status": "ok",
     "timestamp": 1756314134446,
     "user": {
      "displayName": "AA Mobassir",
      "userId": "06833633880868434202"
     },
     "user_tz": -360
    },
    "id": "O9ZiT4x6DB6C"
   },
   "outputs": [],
   "source": [
    "!unzip -q \"/content/MetdataDataset.zip\" -d /content/dataset"
   ]
  },
  {
   "cell_type": "code",
   "execution_count": 3,
   "metadata": {
    "executionInfo": {
     "elapsed": 40,
     "status": "ok",
     "timestamp": 1756314137380,
     "user": {
      "displayName": "AA Mobassir",
      "userId": "06833633880868434202"
     },
     "user_tz": -360
    },
    "id": "ZxgX3kSJCv1f"
   },
   "outputs": [],
   "source": [
    "#\n",
    "train_images_folder = '/content/dataset/MetdataDataset/Doctor’s Handwritten Prescription BD dataset/Training/training_words'\n",
    "val_images_folder   = '/content/dataset/MetdataDataset/Doctor’s Handwritten Prescription BD dataset/Validation/validation_words'\n",
    "test_images_folder  = '/content/dataset/MetdataDataset/Doctor’s Handwritten Prescription BD dataset/Testing/testing_words'\n",
    "\n",
    "train_label_file = '/content/dataset/MetdataDataset/Doctor’s Handwritten Prescription BD dataset/Training/training_labels_updated.csv'\n",
    "val_label_file   = '/content/dataset/MetdataDataset/Doctor’s Handwritten Prescription BD dataset/Validation/validation_labels_updated.csv'\n",
    "test_label_file  = '/content/dataset/MetdataDataset/Doctor’s Handwritten Prescription BD dataset/Testing/testing_labels_updated.csv'\n",
    "\n",
    "\n",
    "metadata_columns = [\n",
    "    'drug_category',\n",
    "    'dosage_form',\n",
    "    'otc_status',\n",
    "\n",
    "]\n",
    "\n",
    "target_col = 'MEDICINE_NAME'"
   ]
  },
  {
   "cell_type": "code",
   "execution_count": 4,
   "metadata": {
    "executionInfo": {
     "elapsed": 6,
     "status": "ok",
     "timestamp": 1756314139440,
     "user": {
      "displayName": "AA Mobassir",
      "userId": "06833633880868434202"
     },
     "user_tz": -360
    },
    "id": "K8JnaE7xnooL"
   },
   "outputs": [],
   "source": [
    "import pandas as pd\n",
    "import os\n",
    "\n",
    "def check_master_leakage(train_file, val_file, test_file,\n",
    "                         train_img_dir, val_img_dir, test_img_dir,\n",
    "                         metadata_columns, target_col=\"MEDICINE_NAME\"):\n",
    "    # Load CSVs\n",
    "    train_df = pd.read_csv(train_file)\n",
    "    val_df   = pd.read_csv(val_file)\n",
    "    test_df  = pd.read_csv(test_file)\n",
    "    metadata_leakage = {}\n",
    "    for col in metadata_columns:\n",
    "        mapping = train_df.groupby(col)[target_col].nunique()\n",
    "        unique_leak = mapping[mapping == 1]\n",
    "        metadata_leakage[col] = len(unique_leak)\n",
    "\n",
    "    return train_df, val_df, test_df, metadata_leakage"
   ]
  },
  {
   "cell_type": "code",
   "execution_count": 5,
   "metadata": {
    "colab": {
     "base_uri": "https://localhost:8080/"
    },
    "executionInfo": {
     "elapsed": 88,
     "status": "ok",
     "timestamp": 1756314143283,
     "user": {
      "displayName": "AA Mobassir",
      "userId": "06833633880868434202"
     },
     "user_tz": -360
    },
    "id": "ZRBBid_InpnL",
    "outputId": "b46ee53e-bc01-4000-ca47-d5d99afc84ab"
   },
   "outputs": [
    {
     "name": "stdout",
     "output_type": "stream",
     "text": [
      "Metadata Leakage: {'drug_category': 1, 'dosage_form': 2, 'otc_status': 0}\n"
     ]
    }
   ],
   "source": [
    "train_df, val_df, test_df, metadata_leakage = check_master_leakage(\n",
    "    train_label_file,\n",
    "    val_label_file,\n",
    "    test_label_file,\n",
    "    train_images_folder,\n",
    "    val_images_folder,\n",
    "    test_images_folder,\n",
    "    metadata_columns,\n",
    "    target_col=\"MEDICINE_NAME\"\n",
    ")\n",
    "\n",
    "print(\"Metadata Leakage:\", metadata_leakage)"
   ]
  },
  {
   "cell_type": "code",
   "execution_count": 6,
   "metadata": {
    "executionInfo": {
     "elapsed": 6,
     "status": "ok",
     "timestamp": 1756314145560,
     "user": {
      "displayName": "AA Mobassir",
      "userId": "06833633880868434202"
     },
     "user_tz": -360
    },
    "id": "JDZ9fWGtntLH"
   },
   "outputs": [],
   "source": [
    "def remove_rare_leaks(df, metadata_columns, target_col):\n",
    "\n",
    "    df_clean = df.copy()\n",
    "    for col in metadata_columns:\n",
    "        counts = df.groupby(col)[target_col].nunique()\n",
    "        rare_values = counts[counts == 1].index\n",
    "        df_clean.loc[df_clean[col].isin(rare_values), col] = None\n",
    "    return df_clean\n"
   ]
  },
  {
   "cell_type": "code",
   "execution_count": 7,
   "metadata": {
    "executionInfo": {
     "elapsed": 16,
     "status": "ok",
     "timestamp": 1756314147562,
     "user": {
      "displayName": "AA Mobassir",
      "userId": "06833633880868434202"
     },
     "user_tz": -360
    },
    "id": "mf1EC4rInxdd"
   },
   "outputs": [],
   "source": [
    "train_df_clean = remove_rare_leaks(train_df, metadata_columns, target_col)\n",
    "val_df_clean   = remove_rare_leaks(val_df, metadata_columns, target_col)\n",
    "test_df_clean  = remove_rare_leaks(test_df, metadata_columns, target_col)\n"
   ]
  },
  {
   "cell_type": "code",
   "execution_count": 8,
   "metadata": {
    "colab": {
     "base_uri": "https://localhost:8080/"
    },
    "executionInfo": {
     "elapsed": 9,
     "status": "ok",
     "timestamp": 1756314150197,
     "user": {
      "displayName": "AA Mobassir",
      "userId": "06833633880868434202"
     },
     "user_tz": -360
    },
    "id": "YkcL4tUNn0gd",
    "outputId": "3f653cbd-cce5-43f5-815c-d175fa326628"
   },
   "outputs": [
    {
     "name": "stdout",
     "output_type": "stream",
     "text": [
      "Metadata leakage after cleaning: {'drug_category': 0, 'dosage_form': 0, 'otc_status': 0}\n"
     ]
    }
   ],
   "source": [
    "def verify_metadata_leakage(df, metadata_columns, target_col):\n",
    "    leakage_info = {}\n",
    "    for col in metadata_columns:\n",
    "        counts = df.groupby(col)[target_col].nunique()\n",
    "        leakage_info[col] = len(counts[counts == 1])\n",
    "    return leakage_info\n",
    "\n",
    "metadata_leak_check_train = verify_metadata_leakage(train_df_clean, metadata_columns, target_col)\n",
    "print(\"Metadata leakage after cleaning:\", metadata_leak_check_train)\n"
   ]
  },
  {
   "cell_type": "code",
   "execution_count": 9,
   "metadata": {
    "executionInfo": {
     "elapsed": 6,
     "status": "ok",
     "timestamp": 1756314152854,
     "user": {
      "displayName": "AA Mobassir",
      "userId": "06833633880868434202"
     },
     "user_tz": -360
    },
    "id": "6b-c0NdZmt7G"
   },
   "outputs": [],
   "source": [
    "# ---- Dataset class ----\n",
    "class PrescriptionDataset(Dataset):\n",
    "    def __init__(self, images_folder, df, metadata_cols, target_col, transform=None):\n",
    "        self.images_folder = images_folder\n",
    "        self.df = df\n",
    "        self.metadata_cols = metadata_cols\n",
    "        self.target_col = target_col\n",
    "        self.transform = transform\n",
    "\n",
    "    def __len__(self):\n",
    "        return len(self.df)\n",
    "\n",
    "    def __getitem__(self, idx):\n",
    "        row = self.df.iloc[idx]\n",
    "        img_path = os.path.join(self.images_folder, row['IMAGE'])\n",
    "        img = Image.open(img_path).convert('RGB')\n",
    "        if self.transform:\n",
    "            img = self.transform(image=np.array(img))['image']\n",
    "\n",
    "        meta_features = torch.tensor([row[col] for col in self.metadata_cols], dtype=torch.long)\n",
    "        label = torch.tensor(row[self.target_col], dtype=torch.long)\n",
    "        return img, meta_features, label"
   ]
  },
  {
   "cell_type": "code",
   "execution_count": 10,
   "metadata": {
    "executionInfo": {
     "elapsed": 8,
     "status": "ok",
     "timestamp": 1756314154487,
     "user": {
      "displayName": "AA Mobassir",
      "userId": "06833633880868434202"
     },
     "user_tz": -360
    },
    "id": "jXMqQqcumxke"
   },
   "outputs": [],
   "source": [
    "train_transform = A.Compose([\n",
    "    A.Resize(224, 224),\n",
    "    A.Rotate(limit=15, p=0.7),\n",
    "    A.Affine(translate_percent=0.05, scale=(0.9, 1.1), rotate=0, shear=0, p=0.5),\n",
    "    A.ElasticTransform(alpha=1, sigma=50, p=0.3),\n",
    "    A.RandomBrightnessContrast(brightness_limit=0.2, contrast_limit=0.2, p=0.5),\n",
    "    A.GaussNoise(p=0.4),\n",
    "    A.OneOf([\n",
    "        A.MotionBlur(blur_limit=3, p=1.0),\n",
    "        A.MedianBlur(blur_limit=3, p=1.0),\n",
    "        A.Blur(blur_limit=3, p=1.0),\n",
    "    ], p=0.3),\n",
    "    A.HueSaturationValue(hue_shift_limit=10, sat_shift_limit=20, val_shift_limit=10, p=0.3),\n",
    "    A.Normalize(mean=(0.485, 0.456, 0.406),\n",
    "                std=(0.229, 0.224, 0.225)),\n",
    "    ToTensorV2()\n",
    "])\n",
    "\n",
    "val_test_transform = A.Compose([\n",
    "    A.Resize(224, 224),\n",
    "    A.Normalize(mean=(0.485, 0.456, 0.406),\n",
    "                std=(0.229, 0.224, 0.225)),\n",
    "    ToTensorV2()\n",
    "])"
   ]
  },
  {
   "cell_type": "code",
   "execution_count": 11,
   "metadata": {
    "colab": {
     "base_uri": "https://localhost:8080/"
    },
    "executionInfo": {
     "elapsed": 71,
     "status": "ok",
     "timestamp": 1756314156146,
     "user": {
      "displayName": "AA Mobassir",
      "userId": "06833633880868434202"
     },
     "user_tz": -360
    },
    "id": "7VrpOF5NpEGf",
    "outputId": "4bfb14f9-db31-452d-8199-4f3059e2054d"
   },
   "outputs": [
    {
     "name": "stdout",
     "output_type": "stream",
     "text": [
      "Num classes: 78\n",
      "Metadata cardinalities: [13, 5, 3]\n"
     ]
    }
   ],
   "source": [
    "# ---- Load CSVs ----\n",
    "df_train = pd.read_csv(train_label_file)\n",
    "df_val = pd.read_csv(val_label_file)\n",
    "df_test = pd.read_csv(test_label_file)\n",
    "\n",
    "for df in [df_train, df_val, df_test]:\n",
    "    df.columns = df.columns.str.strip()\n",
    "\n",
    "# ---- Label encoding ----\n",
    "encoders = {}\n",
    "for col in metadata_columns + [target_col]:\n",
    "    le = LabelEncoder()\n",
    "    le.fit(df_train[col])\n",
    "    encoders[col] = le\n",
    "    df_train[col] = le.transform(df_train[col])\n",
    "    df_val[col] = le.transform(df_val[col])\n",
    "    df_test[col] = le.transform(df_test[col])\n",
    "\n",
    "num_classes = len(encoders[target_col].classes_)\n",
    "metadata_cardinalities = [len(encoders[col].classes_) for col in metadata_columns]\n",
    "\n",
    "print(f\"Num classes: {num_classes}\")\n",
    "print(f\"Metadata cardinalities: {metadata_cardinalities}\")\n"
   ]
  },
  {
   "cell_type": "code",
   "execution_count": 12,
   "metadata": {
    "colab": {
     "base_uri": "https://localhost:8080/"
    },
    "executionInfo": {
     "elapsed": 7,
     "status": "ok",
     "timestamp": 1756314159748,
     "user": {
      "displayName": "AA Mobassir",
      "userId": "06833633880868434202"
     },
     "user_tz": -360
    },
    "id": "2z6DjxDhm4BH",
    "outputId": "3b46a840-c9d4-476a-ac5a-ccc1c6b1c153"
   },
   "outputs": [
    {
     "name": "stdout",
     "output_type": "stream",
     "text": [
      "Train/Val/Test sizes: 3120, 780, 780\n"
     ]
    }
   ],
   "source": [
    "batch_size = 6\n",
    "num_workers = 2\n",
    "\n",
    "train_ds = PrescriptionDataset(train_images_folder, df_train, metadata_columns, target_col, transform=train_transform)\n",
    "val_ds = PrescriptionDataset(val_images_folder, df_val, metadata_columns, target_col, transform=val_test_transform)\n",
    "test_ds = PrescriptionDataset(test_images_folder, df_test, metadata_columns, target_col, transform=val_test_transform)\n",
    "\n",
    "train_loader = DataLoader(train_ds, batch_size=batch_size, shuffle=True, num_workers=num_workers)\n",
    "val_loader = DataLoader(val_ds, batch_size=batch_size, shuffle=False, num_workers=num_workers)\n",
    "test_loader = DataLoader(test_ds, batch_size=batch_size, shuffle=False, num_workers=num_workers)\n",
    "\n",
    "print(f\"Train/Val/Test sizes: {len(train_ds)}, {len(val_ds)}, {len(test_ds)}\")\n"
   ]
  },
  {
   "cell_type": "code",
   "execution_count": 13,
   "metadata": {
    "executionInfo": {
     "elapsed": 10,
     "status": "ok",
     "timestamp": 1756314165409,
     "user": {
      "displayName": "AA Mobassir",
      "userId": "06833633880868434202"
     },
     "user_tz": -360
    },
    "id": "kpRWIRNmm7Fn"
   },
   "outputs": [],
   "source": [
    "class MultiModalResNet(nn.Module):\n",
    "    def __init__(self, num_classes, metadata_cardinalities, embed_dim=16):\n",
    "        super().__init__()\n",
    "        base_model = models.resnet50(weights=models.ResNet50_Weights.IMAGENET1K_V1)\n",
    "        self.cnn = nn.Sequential(*list(base_model.children())[:-1]) # Remove the last FC layer\n",
    "        self.flatten = nn.Flatten()\n",
    "\n",
    "        self.cnn_fc = nn.Sequential(\n",
    "            nn.Linear(2048, 512), # ResNet50 outputs 2048 features before the final FC layer\n",
    "            nn.ReLU(),\n",
    "            nn.Dropout(0.5)\n",
    "        )\n",
    "\n",
    "        self.metadata_embeds = nn.ModuleList(\n",
    "            [nn.Embedding(cardinality, embed_dim) for cardinality in metadata_cardinalities]\n",
    "        )\n",
    "\n",
    "        self.fc = nn.Sequential(\n",
    "            nn.Linear(512 + embed_dim * len(metadata_cardinalities), 256),\n",
    "            nn.ReLU(),\n",
    "            nn.Dropout(0.5),\n",
    "            nn.Linear(256, num_classes)\n",
    "        )\n",
    "\n",
    "    def forward(self, x_img, x_meta):\n",
    "        x_img = self.cnn(x_img)\n",
    "        x_img = self.flatten(x_img)   # [batch, 2048]\n",
    "        x_img = self.cnn_fc(x_img)    # [batch, 512]\n",
    "\n",
    "        meta_embeds = [embed(x_meta[:, i]) for i, embed in enumerate(self.metadata_embeds)]\n",
    "        x_meta = torch.cat(meta_embeds, dim=1)\n",
    "\n",
    "        x = torch.cat([x_img, x_meta], dim=1)\n",
    "        out = self.fc(x)\n",
    "        return out"
   ]
  },
  {
   "cell_type": "code",
   "execution_count": 14,
   "metadata": {
    "executionInfo": {
     "elapsed": 57,
     "status": "ok",
     "timestamp": 1756314167598,
     "user": {
      "displayName": "AA Mobassir",
      "userId": "06833633880868434202"
     },
     "user_tz": -360
    },
    "id": "uvjOcG3lnDqA"
   },
   "outputs": [],
   "source": [
    "def train_validate(model, train_loader, val_loader, criterion, optimizer, scheduler=None, num_epochs=36, save_path='best_multimodal.pth', patience=5):\n",
    "    since = time.time()\n",
    "    best_model_wts = copy.deepcopy(model.state_dict())\n",
    "    best_acc = 0.0\n",
    "    history = {'train_loss': [], 'val_loss': [], 'train_acc': [], 'val_acc': []}\n",
    "    early_stop_counter = 0\n",
    "\n",
    "    for epoch in range(num_epochs):\n",
    "        # Train\n",
    "        model.train()\n",
    "        running_loss, running_corrects, total = 0, 0, 0\n",
    "        for imgs, metas, labels in train_loader:\n",
    "            imgs, metas, labels = imgs.to(device), metas.to(device), labels.to(device)\n",
    "            optimizer.zero_grad()\n",
    "            outputs = model(imgs, metas)\n",
    "            loss = criterion(outputs, labels)\n",
    "            loss.backward()\n",
    "            optimizer.step()\n",
    "\n",
    "            _, preds = torch.max(outputs, 1)\n",
    "            running_loss += loss.item() * imgs.size(0)\n",
    "            running_corrects += torch.sum(preds == labels).item()\n",
    "            total += imgs.size(0)\n",
    "\n",
    "        train_loss = running_loss / total\n",
    "        train_acc = running_corrects / total\n",
    "\n",
    "        # Validate\n",
    "        model.eval()\n",
    "        val_running_loss, val_running_corrects, val_total = 0, 0, 0\n",
    "        with torch.no_grad():\n",
    "            for imgs, metas, labels in val_loader:\n",
    "                imgs, metas, labels = imgs.to(device), metas.to(device), labels.to(device)\n",
    "                outputs = model(imgs, metas)\n",
    "                loss = criterion(outputs, labels)\n",
    "                _, preds = torch.max(outputs, 1)\n",
    "                val_running_loss += loss.item() * imgs.size(0)\n",
    "                val_running_corrects += torch.sum(preds == labels).item()\n",
    "                val_total += imgs.size(0)\n",
    "\n",
    "        val_loss = val_running_loss / val_total\n",
    "        val_acc = val_running_corrects / val_total\n",
    "\n",
    "        if scheduler is not None:\n",
    "            scheduler.step(val_loss)\n",
    "\n",
    "        history['train_loss'].append(train_loss)\n",
    "        history['val_loss'].append(val_loss)\n",
    "        history['train_acc'].append(train_acc)\n",
    "        history['val_acc'].append(val_acc)\n",
    "\n",
    "        print(f\"Epoch {epoch+1}/{num_epochs} | Train loss: {train_loss:.4f} acc: {train_acc:.4f} | Val loss: {val_loss:.4f} acc: {val_acc:.4f}\")\n",
    "\n",
    "        if val_acc > best_acc:\n",
    "            best_acc = val_acc\n",
    "            best_model_wts = copy.deepcopy(model.state_dict())\n",
    "            torch.save(model.state_dict(), save_path)\n",
    "            early_stop_counter = 0\n",
    "            print(\"  Saved best model.\")\n",
    "        else:\n",
    "            early_stop_counter += 1\n",
    "            if early_stop_counter >= patience:\n",
    "                print(\"Early stopping triggered.\")\n",
    "                break\n",
    "\n",
    "    time_elapsed = time.time() - since\n",
    "    print(f\"Training complete in {time_elapsed // 60:.0f}m {time_elapsed % 60:.0f}s | Best val Acc: {best_acc:.4f}\")\n",
    "\n",
    "    model.load_state_dict(best_model_wts)\n",
    "\n",
    "    # Plot loss/accuracy curves\n",
    "    plt.figure(figsize=(12,5))\n",
    "    plt.subplot(1,2,1)\n",
    "    plt.plot(history['train_loss'], label='Train Loss')\n",
    "    plt.plot(history['val_loss'], label='Val Loss')\n",
    "    plt.legend()\n",
    "    plt.title(\"Loss Curve\")\n",
    "    plt.subplot(1,2,2)\n",
    "    plt.plot(history['train_acc'], label='Train Acc')\n",
    "    plt.plot(history['val_acc'], label='Val Acc')\n",
    "    plt.legend()\n",
    "    plt.title(\"Accuracy Curve\")\n",
    "    plt.show()\n",
    "\n",
    "    return model, history\n"
   ]
  },
  {
   "cell_type": "code",
   "execution_count": 15,
   "metadata": {
    "executionInfo": {
     "elapsed": 4,
     "status": "ok",
     "timestamp": 1756314171205,
     "user": {
      "displayName": "AA Mobassir",
      "userId": "06833633880868434202"
     },
     "user_tz": -360
    },
    "id": "lrFePdcVnMwI"
   },
   "outputs": [],
   "source": [
    "def evaluate_and_report_avg(model, loader, id_to_label):\n",
    "    model.eval()\n",
    "    y_true, y_pred = [], []\n",
    "    with torch.no_grad():\n",
    "        for imgs, metas, labels in loader:\n",
    "            imgs, metas, labels = imgs.to(device), metas.to(device), labels.to(device)\n",
    "            outputs = model(imgs, metas)\n",
    "            _, preds = torch.max(outputs, 1)\n",
    "            y_true.extend(labels.cpu().numpy())\n",
    "            y_pred.extend(preds.cpu().numpy())\n",
    "\n",
    "    acc = accuracy_score(y_true, y_pred)\n",
    "    print(f\"Test Accuracy: {acc:.4f}\")\n",
    "    report = classification_report(y_true, y_pred, output_dict=True, zero_division=0)\n",
    "    avg_metrics = {\n",
    "        'precision': report['weighted avg']['precision'],\n",
    "        'recall': report['weighted avg']['recall'],\n",
    "        'f1-score': report['weighted avg']['f1-score'],\n",
    "        'accuracy': report['accuracy']\n",
    "    }\n",
    "    print(\"Average Metrics (weighted):\", avg_metrics)\n",
    "    return avg_metrics"
   ]
  },
  {
   "cell_type": "code",
   "execution_count": 16,
   "metadata": {
    "colab": {
     "base_uri": "https://localhost:8080/"
    },
    "executionInfo": {
     "elapsed": 1326,
     "status": "ok",
     "timestamp": 1756314174881,
     "user": {
      "displayName": "AA Mobassir",
      "userId": "06833633880868434202"
     },
     "user_tz": -360
    },
    "id": "EpCen6IYnRdh",
    "outputId": "5b6824fc-66d0-4821-9fda-1aeb5ab37368"
   },
   "outputs": [
    {
     "name": "stdout",
     "output_type": "stream",
     "text": [
      "Downloading: \"https://download.pytorch.org/models/resnet50-0676ba61.pth\" to /root/.cache/torch/hub/checkpoints/resnet50-0676ba61.pth\n"
     ]
    },
    {
     "name": "stderr",
     "output_type": "stream",
     "text": [
      "100%|██████████| 97.8M/97.8M [00:00<00:00, 173MB/s]\n"
     ]
    }
   ],
   "source": [
    "model = MultiModalResNet(num_classes=num_classes, metadata_cardinalities=metadata_cardinalities).to(device)\n",
    "criterion = nn.CrossEntropyLoss()\n",
    "optimizer = optim.Adam(model.parameters(), lr=5e-5, weight_decay=1e-5)\n",
    "scheduler = optim.lr_scheduler.ReduceLROnPlateau(optimizer, mode='min', factor=0.5, patience=3)"
   ]
  },
  {
   "cell_type": "code",
   "execution_count": 17,
   "metadata": {
    "colab": {
     "base_uri": "https://localhost:8080/",
     "height": 1000
    },
    "executionInfo": {
     "elapsed": 1278553,
     "status": "ok",
     "timestamp": 1756315456765,
     "user": {
      "displayName": "AA Mobassir",
      "userId": "06833633880868434202"
     },
     "user_tz": -360
    },
    "id": "IVhUZ2DKnUl5",
    "outputId": "e85dc360-6338-4dc9-c5c9-1969ee5def83"
   },
   "outputs": [
    {
     "name": "stdout",
     "output_type": "stream",
     "text": [
      "Epoch 1/30 | Train loss: 4.3156 acc: 0.0295 | Val loss: 4.1886 acc: 0.1103\n",
      "  Saved best model.\n",
      "Epoch 2/30 | Train loss: 4.1466 acc: 0.0747 | Val loss: 3.8233 acc: 0.2756\n",
      "  Saved best model.\n",
      "Epoch 3/30 | Train loss: 3.8470 acc: 0.1285 | Val loss: 3.3039 acc: 0.3808\n",
      "  Saved best model.\n",
      "Epoch 4/30 | Train loss: 3.4439 acc: 0.1968 | Val loss: 2.6698 acc: 0.4526\n",
      "  Saved best model.\n",
      "Epoch 5/30 | Train loss: 2.9840 acc: 0.2795 | Val loss: 2.0549 acc: 0.6846\n",
      "  Saved best model.\n",
      "Epoch 6/30 | Train loss: 2.5345 acc: 0.3676 | Val loss: 1.4890 acc: 0.7692\n",
      "  Saved best model.\n",
      "Epoch 7/30 | Train loss: 2.1328 acc: 0.4667 | Val loss: 0.9620 acc: 0.8462\n",
      "  Saved best model.\n",
      "Epoch 8/30 | Train loss: 1.7296 acc: 0.5500 | Val loss: 0.7294 acc: 0.8987\n",
      "  Saved best model.\n",
      "Epoch 9/30 | Train loss: 1.4152 acc: 0.6420 | Val loss: 0.5476 acc: 0.9167\n",
      "  Saved best model.\n",
      "Epoch 10/30 | Train loss: 1.1381 acc: 0.7090 | Val loss: 0.3968 acc: 0.9282\n",
      "  Saved best model.\n",
      "Epoch 11/30 | Train loss: 0.9621 acc: 0.7587 | Val loss: 0.3115 acc: 0.9346\n",
      "  Saved best model.\n",
      "Epoch 12/30 | Train loss: 0.7841 acc: 0.8071 | Val loss: 0.2333 acc: 0.9590\n",
      "  Saved best model.\n",
      "Epoch 13/30 | Train loss: 0.6771 acc: 0.8391 | Val loss: 0.2103 acc: 0.9628\n",
      "  Saved best model.\n",
      "Epoch 14/30 | Train loss: 0.5489 acc: 0.8734 | Val loss: 0.1833 acc: 0.9654\n",
      "  Saved best model.\n",
      "Epoch 15/30 | Train loss: 0.4550 acc: 0.8913 | Val loss: 0.1645 acc: 0.9641\n",
      "Epoch 16/30 | Train loss: 0.3846 acc: 0.9151 | Val loss: 0.1514 acc: 0.9628\n",
      "Epoch 17/30 | Train loss: 0.3412 acc: 0.9192 | Val loss: 0.1716 acc: 0.9590\n",
      "Epoch 18/30 | Train loss: 0.2975 acc: 0.9337 | Val loss: 0.1231 acc: 0.9692\n",
      "  Saved best model.\n",
      "Epoch 19/30 | Train loss: 0.2505 acc: 0.9465 | Val loss: 0.1391 acc: 0.9564\n",
      "Epoch 20/30 | Train loss: 0.2234 acc: 0.9522 | Val loss: 0.1301 acc: 0.9679\n",
      "Epoch 21/30 | Train loss: 0.1754 acc: 0.9644 | Val loss: 0.1403 acc: 0.9654\n",
      "Epoch 22/30 | Train loss: 0.1940 acc: 0.9577 | Val loss: 0.1275 acc: 0.9718\n",
      "  Saved best model.\n",
      "Epoch 23/30 | Train loss: 0.1190 acc: 0.9766 | Val loss: 0.1380 acc: 0.9667\n",
      "Epoch 24/30 | Train loss: 0.0892 acc: 0.9859 | Val loss: 0.1166 acc: 0.9679\n",
      "Epoch 25/30 | Train loss: 0.0905 acc: 0.9849 | Val loss: 0.0993 acc: 0.9718\n",
      "Epoch 26/30 | Train loss: 0.0709 acc: 0.9894 | Val loss: 0.1108 acc: 0.9692\n",
      "Epoch 27/30 | Train loss: 0.0729 acc: 0.9894 | Val loss: 0.1076 acc: 0.9667\n",
      "Early stopping triggered.\n",
      "Training complete in 21m 18s | Best val Acc: 0.9718\n"
     ]
    },
    {
     "data": {
      "image/png": "[encoded data removed]",
      "text/plain": [
       "<Figure size 1200x500 with 2 Axes>"
      ]
     },
     "metadata": {},
     "output_type": "display_data"
    }
   ],
   "source": [
    "model, history = train_validate(model, train_loader, val_loader, criterion, optimizer, scheduler=scheduler, num_epochs=30)\n"
   ]
  },
  {
   "cell_type": "code",
   "execution_count": 18,
   "metadata": {
    "colab": {
     "base_uri": "https://localhost:8080/"
    },
    "executionInfo": {
     "elapsed": 3192,
     "status": "ok",
     "timestamp": 1756315471315,
     "user": {
      "displayName": "AA Mobassir",
      "userId": "06833633880868434202"
     },
     "user_tz": -360
    },
    "id": "uYAqhcBothkT",
    "outputId": "fb966a3e-61e7-430d-c0ee-6d8317462600"
   },
   "outputs": [
    {
     "name": "stdout",
     "output_type": "stream",
     "text": [
      "Test Accuracy: 0.9449\n",
      "Average Metrics (weighted): {'precision': 0.9498888575811653, 'recall': 0.9448717948717948, 'f1-score': 0.9438976107050545, 'accuracy': 0.9448717948717948}\n"
     ]
    }
   ],
   "source": [
    "id_to_label = {i:c for i,c in enumerate(encoders[target_col].classes_)}\n",
    "_ = evaluate_and_report_avg(model, test_loader, id_to_label)"
   ]
  },
  {
   "cell_type": "code",
   "execution_count": 19,
   "metadata": {
    "colab": {
     "base_uri": "https://localhost:8080/",
     "height": 49,
     "referenced_widgets": [
      "ad58697b91a94a34b223345c3652ed36",
      "7f82e23878f145f49e92557e5534a4b6",
      "8244a446e7ab4170af88948f602ec990",
      "864e5b1f1bb7471f936300bd58b8b497",
      "fee54a39d60d414fa1287692848971e1",
      "a237a0ae777f47de8d8754f3b244b370",
      "be9f49f5a2184b81aab32738c46d29f1",
      "c4b64a12d2e14ec6ba9b45bb942eea20",
      "58d9b407f37b47499e39905089e86e7f",
      "be2dd3575b0146f4aa890bb67f95f7e9",
      "79968829a8d14b5b9006c34c64601978"
     ]
    },
    "executionInfo": {
     "elapsed": 353,
     "status": "ok",
     "timestamp": 1756315699639,
     "user": {
      "displayName": "AA Mobassir",
      "userId": "06833633880868434202"
     },
     "user_tz": -360
    },
    "id": "IHAfTl53kqCa",
    "outputId": "f4abd484-15be-4791-c615-b447b57471ce"
   },
   "outputs": [
    {
     "data": {
      "application/vnd.jupyter.widget-view+json": {
       "model_id": "ad58697b91a94a34b223345c3652ed36",
       "version_major": 2,
       "version_minor": 0
      },
      "text/plain": [
       "  0%|          | 0/5 [00:00<?, ?it/s]"
      ]
     },
     "metadata": {},
     "output_type": "display_data"
    }
   ],
   "source": [
    "import shap\n",
    "\n",
    "# Model in eval mode\n",
    "model.eval()\n",
    "background_meta = torch.stack(\n",
    "    [test_ds[i][1] for i in range(min(50, len(test_ds)))],\n",
    "    dim=0\n",
    ").long().to(device)\n",
    "def f_tabular(meta_input, class_idx=0):\n",
    "    with torch.no_grad():\n",
    "        meta_input = torch.tensor(meta_input, dtype=torch.long).to(device)\n",
    "        batch_size = meta_input.shape[0]\n",
    "        cnn_features = torch.zeros(batch_size, 512).to(device)\n",
    "        meta_embeds = [model.metadata_embeds[i](meta_input[:, i]) for i in range(len(metadata_columns))]\n",
    "        meta_embeds = torch.cat(meta_embeds, dim=1)\n",
    "        x = torch.cat([cnn_features, meta_embeds], dim=1)\n",
    "        out = model.fc(x)\n",
    "        probs = torch.softmax(out, dim=1)\n",
    "        return probs[:, class_idx].cpu().numpy()\n",
    "\n",
    "explainer = shap.KernelExplainer(\n",
    "    lambda x: f_tabular(x, class_idx=0),\n",
    "    background_meta.cpu().numpy()\n",
    ")\n",
    "test_meta_samples = torch.stack([test_ds[i][1] for i in range(5)], dim=0).long().to(device)\n",
    "test_meta_samples_np = test_meta_samples.cpu().numpy()\n",
    "shap_values = explainer.shap_values(test_meta_samples_np)"
   ]
  },
  {
   "cell_type": "code",
   "execution_count": 20,
   "metadata": {
    "colab": {
     "base_uri": "https://localhost:8080/",
     "height": 276
    },
    "executionInfo": {
     "elapsed": 220,
     "status": "ok",
     "timestamp": 1756315717907,
     "user": {
      "displayName": "AA Mobassir",
      "userId": "06833633880868434202"
     },
     "user_tz": -360
    },
    "id": "Uu4n-8BtktKf",
    "outputId": "e139bcf7-4a50-42d4-ab85-dc1a66579bcc"
   },
   "outputs": [
    {
     "data": {
      "image/png": "[encoded data removed]",
      "text/plain": [
       "<Figure size 800x270 with 2 Axes>"
      ]
     },
     "metadata": {},
     "output_type": "display_data"
    }
   ],
   "source": [
    "shap.summary_plot(\n",
    "    shap_values,\n",
    "    test_meta_samples_np,\n",
    "    feature_names=metadata_columns\n",
    ")"
   ]
  },
  {
   "cell_type": "code",
   "execution_count": 21,
   "metadata": {
    "colab": {
     "base_uri": "https://localhost:8080/",
     "height": 277
    },
    "executionInfo": {
     "elapsed": 121,
     "status": "ok",
     "timestamp": 1756315743404,
     "user": {
      "displayName": "AA Mobassir",
      "userId": "06833633880868434202"
     },
     "user_tz": -360
    },
    "id": "DCyT21wSkyS2",
    "outputId": "f38286d9-88f5-4365-8393-55ec03b497f7"
   },
   "outputs": [
    {
     "data": {
      "image/png": "[encoded data removed]",
      "text/plain": [
       "<Figure size 800x270 with 1 Axes>"
      ]
     },
     "metadata": {},
     "output_type": "display_data"
    }
   ],
   "source": [
    "# 2) Summary plot (bar)\n",
    "shap.summary_plot(\n",
    "    shap_values,\n",
    "    test_meta_samples_np,\n",
    "    feature_names=metadata_columns,\n",
    "    plot_type='bar'\n",
    ")"
   ]
  }
 ],
 "metadata": {
  "accelerator": "GPU",
  "colab": {
   "gpuType": "T4",
   "provenance": []
  },
  "kernelspec": {
   "display_name": "Python 3",
   "name": "python3"
  },
  "language_info": {
   "name": "python"
  }
 },
 "nbformat": 4,
 "nbformat_minor": 0
}
