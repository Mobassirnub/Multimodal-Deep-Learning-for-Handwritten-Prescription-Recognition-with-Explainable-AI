{
 "cells": [
  {
   "cell_type": "code",
   "execution_count": 5,
   "metadata": {
    "executionInfo": {
     "elapsed": 5710,
     "status": "ok",
     "timestamp": 1756303286049,
     "user": {
      "displayName": "AA Mobassir",
      "userId": "06833633880868434202"
     },
     "user_tz": -360
    },
    "id": "VL9otHBRSt1g"
   },
   "outputs": [],
   "source": [
    "!pip install timm albumentations --quiet"
   ]
  },
  {
   "cell_type": "code",
   "execution_count": 6,
   "metadata": {
    "executionInfo": {
     "elapsed": 15366,
     "status": "ok",
     "timestamp": 1756303301414,
     "user": {
      "displayName": "AA Mobassir",
      "userId": "06833633880868434202"
     },
     "user_tz": -360
    },
    "id": "5Sgbk6IPS19D"
   },
   "outputs": [],
   "source": [
    "import torch\n",
    "import torch.nn as nn\n",
    "import torch.optim as optim\n",
    "from torch.utils.data import Dataset, DataLoader\n",
    "from torchvision import transforms\n",
    "import albumentations as A\n",
    "from albumentations.pytorch import ToTensorV2\n",
    "import pandas as pd\n",
    "import cv2\n",
    "import timm\n",
    "import os\n",
    "from sklearn.model_selection import train_test_split"
   ]
  },
  {
   "cell_type": "code",
   "execution_count": 3,
   "metadata": {
    "executionInfo": {
     "elapsed": 409,
     "status": "ok",
     "timestamp": 1756303274509,
     "user": {
      "displayName": "AA Mobassir",
      "userId": "06833633880868434202"
     },
     "user_tz": -360
    },
    "id": "ba44olpiT5BS"
   },
   "outputs": [],
   "source": [
    "!unzip -q \"/content/archive (5).zip\" -d /content/dataset"
   ]
  },
  {
   "cell_type": "code",
   "execution_count": 7,
   "metadata": {
    "executionInfo": {
     "elapsed": 16,
     "status": "ok",
     "timestamp": 1756303301447,
     "user": {
      "displayName": "AA Mobassir",
      "userId": "06833633880868434202"
     },
     "user_tz": -360
    },
    "id": "xeq4PNPjTGSs"
   },
   "outputs": [],
   "source": [
    "class PrescriptionDataset(Dataset):\n",
    "    def __init__(self, images_folder, label_file, label_to_id=None, transform=None):\n",
    "        self.images_folder = images_folder\n",
    "        self.df = pd.read_csv(label_file)\n",
    "        self.label_to_id = label_to_id if label_to_id else {\n",
    "            label: idx for idx, label in enumerate(sorted(self.df['MEDICINE_NAME'].unique()))\n",
    "        }\n",
    "        self.transform = transform\n",
    "\n",
    "    def __len__(self):\n",
    "        return len(self.df)\n",
    "\n",
    "    def __getitem__(self, idx):\n",
    "        img_path = os.path.join(self.images_folder, self.df.iloc[idx]['IMAGE'])\n",
    "        image = cv2.imread(img_path)\n",
    "        image = cv2.cvtColor(image, cv2.COLOR_BGR2RGB)\n",
    "        label = self.label_to_id[self.df.iloc[idx]['MEDICINE_NAME']]\n",
    "\n",
    "        if self.transform:\n",
    "            image = self.transform(image=image)[\"image\"]\n",
    "        return image, label"
   ]
  },
  {
   "cell_type": "code",
   "execution_count": 11,
   "metadata": {
    "executionInfo": {
     "elapsed": 13,
     "status": "ok",
     "timestamp": 1756303326561,
     "user": {
      "displayName": "AA Mobassir",
      "userId": "06833633880868434202"
     },
     "user_tz": -360
    },
    "id": "shNsAJuLTLxk"
   },
   "outputs": [],
   "source": [
    "train_transform = A.Compose([\n",
    "    A.Resize(224, 224),\n",
    "    A.Rotate(limit=15, p=0.7),\n",
    "    A.Affine(translate_percent=0.05, scale=(0.9, 1.1), rotate=0, shear=0, p=0.5),\n",
    "    A.ElasticTransform(alpha=1, sigma=50, p=0.3),\n",
    "    A.RandomBrightnessContrast(brightness_limit=0.2, contrast_limit=0.2, p=0.5),\n",
    "    A.GaussNoise(p=0.4),\n",
    "    A.OneOf([\n",
    "        A.MotionBlur(blur_limit=3, p=1.0),\n",
    "        A.MedianBlur(blur_limit=3, p=1.0),\n",
    "        A.Blur(blur_limit=3, p=1.0),\n",
    "    ], p=0.3),\n",
    "    A.HueSaturationValue(hue_shift_limit=10, sat_shift_limit=20, val_shift_limit=10, p=0.3),\n",
    "    A.Normalize(mean=(0.485, 0.456, 0.406),\n",
    "                std=(0.229, 0.224, 0.225)),\n",
    "    ToTensorV2()\n",
    "])\n",
    "\n",
    "val_transform = A.Compose([\n",
    "    A.Resize(224, 224),\n",
    "    A.Normalize(mean=(0.485, 0.456, 0.406),\n",
    "                std=(0.229, 0.224, 0.225)),\n",
    "    ToTensorV2()\n",
    "])"
   ]
  },
  {
   "cell_type": "code",
   "execution_count": 12,
   "metadata": {
    "executionInfo": {
     "elapsed": 6,
     "status": "ok",
     "timestamp": 1756303327908,
     "user": {
      "displayName": "AA Mobassir",
      "userId": "06833633880868434202"
     },
     "user_tz": -360
    },
    "id": "HIyQG9ktTPhl"
   },
   "outputs": [],
   "source": [
    "train_csv = \"/content/dataset/Doctor’s Handwritten Prescription BD dataset/Training/training_labels.csv\"\n",
    "train_images = \"/content/dataset/Doctor’s Handwritten Prescription BD dataset/Training/training_words\"\n",
    "test_csv = \"/content/dataset/Doctor’s Handwritten Prescription BD dataset/Testing/testing_labels.csv\"\n",
    "test_images = \"/content/dataset/Doctor’s Handwritten Prescription BD dataset/Testing/testing_words\"\n",
    "val_csv = \"/content/dataset/Doctor’s Handwritten Prescription BD dataset/Validation/validation_labels.csv\"\n",
    "val_images = \"/content/dataset/Doctor’s Handwritten Prescription BD dataset/Validation/validation_words\"\n"
   ]
  },
  {
   "cell_type": "code",
   "execution_count": 13,
   "metadata": {
    "executionInfo": {
     "elapsed": 13,
     "status": "ok",
     "timestamp": 1756303329473,
     "user": {
      "displayName": "AA Mobassir",
      "userId": "06833633880868434202"
     },
     "user_tz": -360
    },
    "id": "31-loDTQTTR9"
   },
   "outputs": [],
   "source": [
    "train_dataset = PrescriptionDataset(train_images, train_csv, transform=train_transform)\n",
    "val_dataset = PrescriptionDataset(val_images, val_csv, label_to_id=train_dataset.label_to_id, transform=val_transform)\n",
    "test_dataset = PrescriptionDataset(test_images, test_csv, label_to_id=train_dataset.label_to_id, transform=val_transform)\n",
    "\n",
    "train_loader = DataLoader(train_dataset, batch_size=32, shuffle=True, num_workers=2)\n",
    "val_loader = DataLoader(val_dataset, batch_size=32, shuffle=False, num_workers=2)\n",
    "test_loader = DataLoader(test_dataset, batch_size=32, shuffle=False, num_workers=2)\n"
   ]
  },
  {
   "cell_type": "code",
   "execution_count": 14,
   "metadata": {
    "colab": {
     "base_uri": "https://localhost:8080/",
     "height": 208,
     "referenced_widgets": [
      "3d4921778d5848cc93791817d5c42a80",
      "1ebedc5e346d44688922ed6ae5f68476",
      "531c543ac54f46e5b421e9464882a28e",
      "c67b3c3982784d53a7bf95223d2d8432",
      "03f6dd46ae8a48f0bd60477eaa2ceba9",
      "af0a415b5bba4d12b0c48a039e6061e0",
      "f4b15b67769d443b80f3f9882748d75c",
      "e925d129755f472698a73ea34a0482c1",
      "d041e1c609ee408f8508ec375409f532",
      "c3b7a4865fb84b14be16244b0343cdca",
      "911731e421c84de38847c419d157432f"
     ]
    },
    "executionInfo": {
     "elapsed": 1829,
     "status": "ok",
     "timestamp": 1756303338617,
     "user": {
      "displayName": "AA Mobassir",
      "userId": "06833633880868434202"
     },
     "user_tz": -360
    },
    "id": "sm-EfhNNTXd2",
    "outputId": "f5bbe21d-6cc0-4fb0-bb16-bf66876182c5"
   },
   "outputs": [
    {
     "name": "stderr",
     "output_type": "stream",
     "text": [
      "/usr/local/lib/python3.12/dist-packages/timm/models/_factory.py:138: UserWarning: Mapping deprecated model name tf_efficientnet_b3_ns to current tf_efficientnet_b3.ns_jft_in1k.\n",
      "  model = create_fn(\n",
      "/usr/local/lib/python3.12/dist-packages/huggingface_hub/utils/_auth.py:94: UserWarning: \n",
      "The secret `HF_TOKEN` does not exist in your Colab secrets.\n",
      "To authenticate with the Hugging Face Hub, create a token in your settings tab (https://huggingface.co/settings/tokens), set it as secret in your Google Colab and restart your session.\n",
      "You will be able to reuse this secret in all of your notebooks.\n",
      "Please note that authentication is recommended but still optional to access public models or datasets.\n",
      "  warnings.warn(\n"
     ]
    },
    {
     "data": {
      "application/vnd.jupyter.widget-view+json": {
       "model_id": "3d4921778d5848cc93791817d5c42a80",
       "version_major": 2,
       "version_minor": 0
      },
      "text/plain": [
       "model.safetensors:   0%|          | 0.00/49.3M [00:00<?, ?B/s]"
      ]
     },
     "metadata": {},
     "output_type": "display_data"
    }
   ],
   "source": [
    "num_classes = len(train_dataset.label_to_id)\n",
    "model = timm.create_model(\"tf_efficientnet_b3_ns\", pretrained=True, num_classes=num_classes)\n",
    "\n",
    "device = torch.device(\"cuda\" if torch.cuda.is_available() else \"cpu\")\n",
    "model = model.to(device)"
   ]
  },
  {
   "cell_type": "code",
   "execution_count": 15,
   "metadata": {
    "executionInfo": {
     "elapsed": 7,
     "status": "ok",
     "timestamp": 1756303344198,
     "user": {
      "displayName": "AA Mobassir",
      "userId": "06833633880868434202"
     },
     "user_tz": -360
    },
    "id": "6gw0BzpjTcFm"
   },
   "outputs": [],
   "source": [
    "criterion = nn.CrossEntropyLoss()\n",
    "optimizer = optim.Adam(model.parameters(), lr=5e-5, weight_decay=0)"
   ]
  },
  {
   "cell_type": "code",
   "execution_count": 16,
   "metadata": {
    "executionInfo": {
     "elapsed": 18,
     "status": "ok",
     "timestamp": 1756303347009,
     "user": {
      "displayName": "AA Mobassir",
      "userId": "06833633880868434202"
     },
     "user_tz": -360
    },
    "id": "vDx7Xr9zTgdH"
   },
   "outputs": [],
   "source": [
    "def train_model(model, criterion, optimizer, num_epochs=20):\n",
    "    best_acc = 0.0\n",
    "    for epoch in range(num_epochs):\n",
    "        print(f\"Epoch {epoch+1}/{num_epochs}\")\n",
    "\n",
    "        for phase in ['train', 'val']:\n",
    "            if phase == 'train':\n",
    "                model.train()\n",
    "                loader = train_loader\n",
    "            else:\n",
    "                model.eval()\n",
    "                loader = val_loader\n",
    "\n",
    "            running_loss, running_corrects = 0.0, 0\n",
    "            for inputs, labels in loader:\n",
    "                inputs, labels = inputs.to(device), labels.to(device)\n",
    "                optimizer.zero_grad()\n",
    "\n",
    "                with torch.set_grad_enabled(phase == 'train'):\n",
    "                    outputs = model(inputs)\n",
    "                    loss = criterion(outputs, labels)\n",
    "                    _, preds = torch.max(outputs, 1)\n",
    "\n",
    "                    if phase == 'train':\n",
    "                        loss.backward()\n",
    "                        optimizer.step()\n",
    "\n",
    "                running_loss += loss.item() * inputs.size(0)\n",
    "                running_corrects += torch.sum(preds == labels.data)\n",
    "\n",
    "            epoch_loss = running_loss / len(loader.dataset)\n",
    "            epoch_acc = running_corrects.double() / len(loader.dataset)\n",
    "            print(f\"{phase} Loss: {epoch_loss:.4f} Acc: {epoch_acc:.4f}\")\n",
    "\n",
    "            if phase == 'val' and epoch_acc > best_acc:\n",
    "                best_acc = epoch_acc\n",
    "                torch.save(model.state_dict(), \"best_model.pth\")\n",
    "                print(\"Saved Best Model\")\n",
    "\n",
    "    print(f\"Best Val Acc: {best_acc:.4f}\")\n",
    "    return model\n"
   ]
  },
  {
   "cell_type": "code",
   "execution_count": 18,
   "metadata": {
    "colab": {
     "base_uri": "https://localhost:8080/"
    },
    "executionInfo": {
     "elapsed": 1458639,
     "status": "ok",
     "timestamp": 1756304818311,
     "user": {
      "displayName": "AA Mobassir",
      "userId": "06833633880868434202"
     },
     "user_tz": -360
    },
    "id": "2BsDE8_DTlB_",
    "outputId": "27c1c062-4564-42c4-c7e1-3e98b74d83ba"
   },
   "outputs": [
    {
     "name": "stdout",
     "output_type": "stream",
     "text": [
      "Epoch 1/40\n",
      "train Loss: 4.4225 Acc: 0.0176\n",
      "val Loss: 4.2125 Acc: 0.0397\n",
      "Saved Best Model\n",
      "Epoch 2/40\n",
      "train Loss: 4.2139 Acc: 0.0465\n",
      "val Loss: 3.9633 Acc: 0.1192\n",
      "Saved Best Model\n",
      "Epoch 3/40\n",
      "train Loss: 3.9498 Acc: 0.1096\n",
      "val Loss: 3.4971 Acc: 0.2474\n",
      "Saved Best Model\n",
      "Epoch 4/40\n",
      "train Loss: 3.5796 Acc: 0.2022\n",
      "val Loss: 2.8780 Acc: 0.3962\n",
      "Saved Best Model\n",
      "Epoch 5/40\n",
      "train Loss: 3.0489 Acc: 0.3109\n",
      "val Loss: 2.2291 Acc: 0.5154\n",
      "Saved Best Model\n",
      "Epoch 6/40\n",
      "train Loss: 2.4770 Acc: 0.4542\n",
      "val Loss: 1.6969 Acc: 0.6359\n",
      "Saved Best Model\n",
      "Epoch 7/40\n",
      "train Loss: 1.9002 Acc: 0.5942\n",
      "val Loss: 1.3311 Acc: 0.7244\n",
      "Saved Best Model\n",
      "Epoch 8/40\n",
      "train Loss: 1.4129 Acc: 0.7138\n",
      "val Loss: 1.0376 Acc: 0.7859\n",
      "Saved Best Model\n",
      "Epoch 9/40\n",
      "train Loss: 0.9961 Acc: 0.8109\n",
      "val Loss: 0.8047 Acc: 0.8359\n",
      "Saved Best Model\n",
      "Epoch 10/40\n",
      "train Loss: 0.7435 Acc: 0.8497\n",
      "val Loss: 0.6509 Acc: 0.8744\n",
      "Saved Best Model\n",
      "Epoch 11/40\n",
      "train Loss: 0.5636 Acc: 0.8901\n",
      "val Loss: 0.5664 Acc: 0.8885\n",
      "Saved Best Model\n",
      "Epoch 12/40\n",
      "train Loss: 0.4353 Acc: 0.9173\n",
      "val Loss: 0.4972 Acc: 0.8987\n",
      "Saved Best Model\n",
      "Epoch 13/40\n",
      "train Loss: 0.3624 Acc: 0.9279\n",
      "val Loss: 0.4526 Acc: 0.9013\n",
      "Saved Best Model\n",
      "Epoch 14/40\n",
      "train Loss: 0.2677 Acc: 0.9513\n",
      "val Loss: 0.4219 Acc: 0.9013\n",
      "Epoch 15/40\n",
      "train Loss: 0.2172 Acc: 0.9615\n",
      "val Loss: 0.3863 Acc: 0.9064\n",
      "Saved Best Model\n",
      "Epoch 16/40\n",
      "train Loss: 0.1725 Acc: 0.9712\n",
      "val Loss: 0.3764 Acc: 0.9128\n",
      "Saved Best Model\n",
      "Epoch 17/40\n",
      "train Loss: 0.1393 Acc: 0.9744\n",
      "val Loss: 0.3667 Acc: 0.9205\n",
      "Saved Best Model\n",
      "Epoch 18/40\n",
      "train Loss: 0.1217 Acc: 0.9801\n",
      "val Loss: 0.3437 Acc: 0.9244\n",
      "Saved Best Model\n",
      "Epoch 19/40\n",
      "train Loss: 0.0904 Acc: 0.9869\n",
      "val Loss: 0.3315 Acc: 0.9308\n",
      "Saved Best Model\n",
      "Epoch 20/40\n",
      "train Loss: 0.0868 Acc: 0.9862\n",
      "val Loss: 0.3188 Acc: 0.9256\n",
      "Epoch 21/40\n",
      "train Loss: 0.0651 Acc: 0.9920\n",
      "val Loss: 0.3122 Acc: 0.9256\n",
      "Epoch 22/40\n",
      "train Loss: 0.0700 Acc: 0.9881\n",
      "val Loss: 0.3187 Acc: 0.9295\n",
      "Epoch 23/40\n",
      "train Loss: 0.0555 Acc: 0.9920\n",
      "val Loss: 0.3180 Acc: 0.9295\n",
      "Epoch 24/40\n",
      "train Loss: 0.0422 Acc: 0.9933\n",
      "val Loss: 0.2978 Acc: 0.9282\n",
      "Epoch 25/40\n",
      "train Loss: 0.0415 Acc: 0.9936\n",
      "val Loss: 0.2947 Acc: 0.9321\n",
      "Saved Best Model\n",
      "Epoch 26/40\n",
      "train Loss: 0.0360 Acc: 0.9946\n",
      "val Loss: 0.3007 Acc: 0.9346\n",
      "Saved Best Model\n",
      "Epoch 27/40\n",
      "train Loss: 0.0317 Acc: 0.9962\n",
      "val Loss: 0.2902 Acc: 0.9372\n",
      "Saved Best Model\n",
      "Epoch 28/40\n",
      "train Loss: 0.0316 Acc: 0.9971\n",
      "val Loss: 0.2860 Acc: 0.9372\n",
      "Epoch 29/40\n",
      "train Loss: 0.0236 Acc: 0.9971\n",
      "val Loss: 0.2779 Acc: 0.9397\n",
      "Saved Best Model\n",
      "Epoch 30/40\n",
      "train Loss: 0.0277 Acc: 0.9955\n",
      "val Loss: 0.2766 Acc: 0.9372\n",
      "Epoch 31/40\n",
      "train Loss: 0.0289 Acc: 0.9952\n",
      "val Loss: 0.2732 Acc: 0.9410\n",
      "Saved Best Model\n",
      "Epoch 32/40\n",
      "train Loss: 0.0217 Acc: 0.9974\n",
      "val Loss: 0.2722 Acc: 0.9397\n",
      "Epoch 33/40\n",
      "train Loss: 0.0228 Acc: 0.9971\n",
      "val Loss: 0.2583 Acc: 0.9436\n",
      "Saved Best Model\n",
      "Epoch 34/40\n",
      "train Loss: 0.0169 Acc: 0.9984\n",
      "val Loss: 0.2585 Acc: 0.9436\n",
      "Epoch 35/40\n",
      "train Loss: 0.0125 Acc: 0.9990\n",
      "val Loss: 0.2546 Acc: 0.9449\n",
      "Saved Best Model\n",
      "Epoch 36/40\n",
      "train Loss: 0.0150 Acc: 0.9987\n",
      "val Loss: 0.2575 Acc: 0.9436\n",
      "Epoch 37/40\n",
      "train Loss: 0.0129 Acc: 0.9987\n",
      "val Loss: 0.2626 Acc: 0.9423\n",
      "Epoch 38/40\n",
      "train Loss: 0.0129 Acc: 0.9990\n",
      "val Loss: 0.2564 Acc: 0.9410\n",
      "Epoch 39/40\n",
      "train Loss: 0.0091 Acc: 0.9997\n",
      "val Loss: 0.2557 Acc: 0.9436\n",
      "Epoch 40/40\n",
      "train Loss: 0.0112 Acc: 0.9987\n",
      "val Loss: 0.2662 Acc: 0.9423\n",
      "Best Val Acc: 0.9449\n"
     ]
    }
   ],
   "source": [
    "model = train_model(model, criterion, optimizer, num_epochs=40)"
   ]
  },
  {
   "cell_type": "code",
   "execution_count": 22,
   "metadata": {
    "colab": {
     "base_uri": "https://localhost:8080/"
    },
    "executionInfo": {
     "elapsed": 2582,
     "status": "ok",
     "timestamp": 1756305158145,
     "user": {
      "displayName": "AA Mobassir",
      "userId": "06833633880868434202"
     },
     "user_tz": -360
    },
    "id": "OBqMzuXpTtdY",
    "outputId": "12391ede-7302-4655-b35e-03a71bb5ed48"
   },
   "outputs": [
    {
     "name": "stdout",
     "output_type": "stream",
     "text": [
      "Test Accuracy: 0.8397\n",
      "Average Metrics (weighted): {'precision': 0.8654352591852591, 'recall': 0.8397435897435898, 'f1-score': 0.8317872488082011, 'support': 780.0}\n"
     ]
    }
   ],
   "source": [
    "from sklearn.metrics import classification_report\n",
    "\n",
    "model.load_state_dict(torch.load(\"best_model.pth\"))\n",
    "model.eval()\n",
    "correct, total = 0, 0\n",
    "all_labels = []\n",
    "all_preds = []\n",
    "\n",
    "with torch.no_grad():\n",
    "    for inputs, labels in test_loader:\n",
    "        inputs, labels = inputs.to(device), labels.to(device)\n",
    "        outputs = model(inputs)\n",
    "        _, preds = torch.max(outputs, 1)\n",
    "        total += labels.size(0)\n",
    "        correct += (preds == labels).sum().item()\n",
    "        all_labels.extend(labels.cpu().numpy())\n",
    "        all_preds.extend(preds.cpu().numpy())\n",
    "\n",
    "\n",
    "test_accuracy = correct / total\n",
    "print(f\"Test Accuracy: {test_accuracy:.4f}\")\n",
    "report_dict = classification_report(all_labels, all_preds, target_names=train_dataset.label_to_id.keys(), output_dict=True)\n",
    "print(f\"Average Metrics (weighted): {report_dict['weighted avg']}\")"
   ]
  }
 ],
 "metadata": {
  "accelerator": "GPU",
  "colab": {
   "authorship_tag": "ABX9TyP31raYpR3DTF8gViZ7EghW",
   "gpuType": "T4",
   "provenance": []
  },
  "kernelspec": {
   "display_name": "Python 3",
   "name": "python3"
  },
  "language_info": {
   "name": "python"
  }
 },
 "nbformat": 4,
 "nbformat_minor": 0
}
